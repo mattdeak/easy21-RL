{
 "cells": [
  {
   "cell_type": "markdown",
   "metadata": {},
   "source": [
    "# Easy21 via Reinforcement Learning Techniques\n",
    "\n",
    "This notebook investigates the implementation of various reinforcement learning techniques against the game \"Easy21\" illustrated by [this](http://www0.cs.ucl.ac.uk/staff/d.silver/web/Teaching_files/Easy21-Johannes.pdf) assignment under the RL course by Professor David Silver at UCL.\n",
    "\n"
   ]
  },
  {
   "cell_type": "code",
   "execution_count": 1,
   "metadata": {
    "collapsed": false
   },
   "outputs": [],
   "source": [
    "import simulation\n",
    "import environment\n",
    "import player\n",
    "import q_players\n",
    "import matplotlib.pyplot as plt\n",
    "from mpl_toolkits.mplot3d import Axes3D\n",
    "import seaborn as sns\n",
    "import numpy as np\n",
    "import pandas as pd\n",
    "%matplotlib inline"
   ]
  },
  {
   "cell_type": "code",
   "execution_count": 2,
   "metadata": {
    "collapsed": true
   },
   "outputs": [],
   "source": [
    "#Utility Functions\n",
    "\n",
    "#Prints metrics based on the simulation\n",
    "def print_metrics(metrics_dictionary):\n",
    "    print(\"Win Rate: {:.2f}%\\nDraw Rate:{:.2f}%\\nLoss Rate: {:.2f}%\"\n",
    "          .format(metrics_dictionary['win_rate']*100,\n",
    "                  metrics_dictionary['draw_rate']*100,\n",
    "                  metrics_dictionary['loss_rate']*100))\n",
    "    \n",
    "    \n"
   ]
  },
  {
   "cell_type": "markdown",
   "metadata": {},
   "source": [
    "## Baseline Performance\n",
    "\n",
    "We will use 2 simple, hardcoded agents to measure baseline performance.\n",
    "\n",
    "### Random Agent\n",
    "The basic player chooses its actions purely randomly. This is an important measure to have when evaluating the performance of learning agents. This way, at least a modest improvement over the basic player shows that the learning algorithm is somewhat effective.\n",
    "\n",
    "### Naive Agent\n",
    "The naive agent will choose its actions based on a simple heuristic: If the player has a sum of 16 or higher, the agent will stick. Hopefully, a learning agent will learn a better (and perhaps more complex) policy. \n",
    "\n"
   ]
  },
  {
   "cell_type": "code",
   "execution_count": 3,
   "metadata": {
    "collapsed": false
   },
   "outputs": [],
   "source": [
    "#Initialize the players\n",
    "naive_player = player.Naive_Player()\n",
    "random_player = player.Basic_Player()\n",
    "\n",
    "#Initialize the environment\n",
    "env = environment.Easy21_Environment()\n",
    "\n"
   ]
  },
  {
   "cell_type": "code",
   "execution_count": 3,
   "metadata": {
    "collapsed": false
   },
   "outputs": [
    {
     "name": "stdout",
     "output_type": "stream",
     "text": [
      "Simulating Naive Agent\n",
      "Loading game 2000\n",
      "Loading game 4000\n",
      "Loading game 6000\n",
      "Loading game 8000\n",
      "Loading game 10000\n",
      "\n",
      "Simulating Random Agent...\n",
      "Loading game 2000\n",
      "Loading game 4000\n",
      "Loading game 6000\n",
      "Loading game 8000\n",
      "Loading game 10000\n"
     ]
    }
   ],
   "source": [
    "#Number of games to be played\n",
    "n_games = 10000\n",
    "\n",
    "print(\"Simulating Naive Agent\")\n",
    "naive_rewards = simulation.simulate(naive_player,env,n_trials=n_games,verbose=True)\n",
    "print()\n",
    "print(\"Simulating Random Agent...\")\n",
    "random_rewards = simulation.simulate(random_player,env,n_trials=n_games,verbose=True)"
   ]
  },
  {
   "cell_type": "code",
   "execution_count": 11,
   "metadata": {
    "collapsed": false
   },
   "outputs": [
    {
     "name": "stdout",
     "output_type": "stream",
     "text": [
      "Random Agent Metrics:\n",
      "Win Rate: 25.43%\n",
      "Draw Rate:3.83%\n",
      "Loss Rate: 70.74%\n",
      "-------------------------------------------\n",
      "Naive Agent Metrics:\n",
      "Win Rate: 39.85%\n",
      "Draw Rate:11.28%\n",
      "Loss Rate: 48.87%\n"
     ]
    }
   ],
   "source": [
    "\n",
    "\n",
    "random_metrics = simulation.process_simulation_metrics(random_rewards)\n",
    "naive_metrics = simulation.process_simulation_metrics(naive_rewards)\n",
    "\n",
    "\n",
    "print (\"Random Agent Metrics:\")\n",
    "print_metrics(random_metrics)\n",
    "print(\"-------------------------------------------\")\n",
    "print(\"Naive Agent Metrics:\")\n",
    "print_metrics(naive_metrics)\n"
   ]
  },
  {
   "cell_type": "markdown",
   "metadata": {},
   "source": [
    "### Baseline Performance Results\n",
    "We can see that the random agent wins against the dealer about 25% of the time and loses about 71% of the time, with a very small draw rate.\n",
    "Where the Naive agent wins about 40% of the time and loses about 49% of the time, with a much larger draw rate of 11%.\n",
    "\n",
    "These criteria will be our benchmarks against the upcoming learning agents\n"
   ]
  },
  {
   "cell_type": "markdown",
   "metadata": {},
   "source": [
    "## Evaluating a Monte-Carlo Q-Learner\n",
    "The first learning agent we will evaluate is a traditional table based Q-Learner. Of the algorithms we will evaluate, we should expect this to be the best. This is because the state space of Easy21 is very small (110 states), which should allow every state's Q-Value to converge on the true value given enough training time. The Monte-Carlo method should guarantee convergence in this scenario.\n",
    "\n",
    "First we will train the Q-Learner using epsilon and alpha decay. We'll set the number of trials to one hundred thousand, which should allow every state to be visited a reasonable number of times. \n",
    "\n",
    "Then we'll turn learning off and have the agent play based on the policy that it has evaluated."
   ]
  },
  {
   "cell_type": "code",
   "execution_count": 12,
   "metadata": {
    "collapsed": false
   },
   "outputs": [
    {
     "name": "stdout",
     "output_type": "stream",
     "text": [
      "Simulating in Training Mode\n",
      "Loading game 20000\n",
      "Loading game 40000\n",
      "Loading game 60000\n",
      "Loading game 80000\n",
      "Loading game 100000\n",
      "Simulating in Testing Mode\n"
     ]
    }
   ],
   "source": [
    "##Utility function for training and testing learning agents\n",
    "def run_simulations(agent,environment,train_trials=100000,test_trials=10000,verbose=True):\n",
    "    print(\"Simulating in Training Mode\")\n",
    "    simulation.simulate(agent,environment,n_trials=train_trials,verbose=verbose)\n",
    "    \n",
    "    print(\"Simulating in Testing Mode\")\n",
    "    agent.setLearning(False)\n",
    "    results = simulation.simulate(agent,environment,n_trials=test_trials,verbose=verbose)\n",
    "    \n",
    "    return results\n",
    "\n",
    "\n",
    "\n",
    "train_trials = 100000\n",
    "test_trials = 10000\n",
    "#Train Q Learner\n",
    "\n",
    "q_learner = q_players.QLearner_Basic()\n",
    "\n",
    "results = run_simulations(q_learner,env,train_trials,test_trials,verbose=True)"
   ]
  },
  {
   "cell_type": "code",
   "execution_count": 13,
   "metadata": {
    "collapsed": false
   },
   "outputs": [
    {
     "name": "stdout",
     "output_type": "stream",
     "text": [
      "Win Rate: 40.76%\n",
      "Draw Rate:11.56%\n",
      "Loss Rate: 47.68%\n"
     ]
    }
   ],
   "source": [
    "q_metrics = simulation.process_simulation_metrics(results)\n",
    "print_metrics(q_metrics)"
   ]
  },
  {
   "cell_type": "markdown",
   "metadata": {},
   "source": [
    "### Plotting the value space\n",
    "\n",
    "The learned value space of the game can be plotted by the function below.\n"
   ]
  },
  {
   "cell_type": "code",
   "execution_count": 17,
   "metadata": {
    "collapsed": false
   },
   "outputs": [],
   "source": [
    "def plot_value_space(agent):\n",
    "    ##Cumulative wins\n",
    "    dealer_range = range(1,11)\n",
    "    player_sum = range(11,22)\n",
    "    value_space = np.zeros([len(dealer_range)*len(player_sum),3])\n",
    "    \n",
    "    count = 0\n",
    "    for dealer_start in dealer_range:\n",
    "        for p_sum in player_sum:\n",
    "            q_value = agent.get_Q_value((dealer_star))\n",
    "            value_space[count,:] = [dealer_start,p_sum,q_value]\n",
    "            count+=1\n",
    "    fig = plt.figure()\n",
    "    ax = fig.add_subplot(111,projection='3d')\n",
    "    ax.plot_trisurf(value_space[:,0],value_space[:,1],value_space[:,2])\n",
    "    "
   ]
  },
  {
   "cell_type": "markdown",
   "metadata": {},
   "source": [
    "### Plotting the value space\n",
    "The agents estimated value of this space is plotted below. The value (shown on the z-axis) can be interpreted as the agent's belief it will win the game based on the current game state (represented by the x and y axes) \n"
   ]
  },
  {
   "cell_type": "code",
   "execution_count": 18,
   "metadata": {
    "collapsed": false
   },
   "outputs": [
    {
     "data": {
      "image/png": "[encoded data removed]",
      "text/plain": [
       "<matplotlib.figure.Figure at 0x7fda6d7a6240>"
      ]
     },
     "metadata": {},
     "output_type": "display_data"
    }
   ],
   "source": [
    "plot_value_space(q_learner)"
   ]
  },
  {
   "cell_type": "code",
   "execution_count": 19,
   "metadata": {
    "collapsed": false
   },
   "outputs": [
    {
     "data": {
      "text/plain": [
       "defaultdict(dict,\n",
       "            {(1, 11): {'hit': -0.05480104558861712,\n",
       "              'stick': -0.6296296296296297},\n",
       "             (1, 12): {'hit': -0.12709143481109053,\n",
       "              'stick': -0.565217391304348},\n",
       "             (1, 13): {'hit': -0.16846701916882123,\n",
       "              'stick': -0.5272727272727269},\n",
       "             (1, 14): {'hit': -0.21918382444507456,\n",
       "              'stick': -0.5894039735099339},\n",
       "             (1, 15): {'hit': -0.2737066733571065,\n",
       "              'stick': -0.6385542168674697},\n",
       "             (1, 16): {'hit': -0.2924855039475222,\n",
       "              'stick': -0.5514018691588782},\n",
       "             (1, 17): {'hit': -0.34678312962878705,\n",
       "              'stick': -0.3279181708784599},\n",
       "             (1, 18): {'hit': -0.4100278786854778,\n",
       "              'stick': 0.013037809647979138},\n",
       "             (1, 19): {'hit': -0.5314685314685313,\n",
       "              'stick': 0.3434125269978402},\n",
       "             (1, 20): {'hit': -0.527318859635533, 'stick': 0.6588124410933083},\n",
       "             (1, 21): {'hit': -0.7645058023209284,\n",
       "              'stick': 0.8978007761966365},\n",
       "             (2, 11): {'hit': -0.07984044274294291,\n",
       "              'stick': -0.5582822085889572},\n",
       "             (2, 12): {'hit': -0.1953204186678539,\n",
       "              'stick': -0.5582822085889569},\n",
       "             (2, 13): {'hit': -0.20851483267664073,\n",
       "              'stick': -0.4615384615384615},\n",
       "             (2, 14): {'hit': -0.21442696737390296,\n",
       "              'stick': -0.5267857142857142},\n",
       "             (2, 15): {'hit': -0.27578431095260286,\n",
       "              'stick': -0.5921052631578949},\n",
       "             (2, 16): {'hit': -0.5861792854057278,\n",
       "              'stick': -0.5169029443838608},\n",
       "             (2, 17): {'hit': -0.4200332339836472,\n",
       "              'stick': -0.3335459183673473},\n",
       "             (2, 18): {'hit': -0.5501725838264301,\n",
       "              'stick': 0.015849056603773573},\n",
       "             (2, 19): {'hit': -0.6170212765957442,\n",
       "              'stick': 0.36857142857142844},\n",
       "             (2, 20): {'hit': -0.7509628851540613,\n",
       "              'stick': 0.6385809312638584},\n",
       "             (2, 21): {'hit': -0.5961538461538464,\n",
       "              'stick': 0.8940170940170938},\n",
       "             (3, 11): {'hit': -0.02556349648730848,\n",
       "              'stick': -0.47976878612716756},\n",
       "             (3, 12): {'hit': -0.0795788419301462,\n",
       "              'stick': -0.46107784431137727},\n",
       "             (3, 13): {'hit': -0.13281314179590073,\n",
       "              'stick': -0.6250000000000001},\n",
       "             (3, 14): {'hit': -0.1831061298722725,\n",
       "              'stick': -0.510204081632653},\n",
       "             (3, 15): {'hit': -0.23659805768643197,\n",
       "              'stick': -0.5068493150684931},\n",
       "             (3, 16): {'hit': -0.26805949571646004,\n",
       "              'stick': -0.4506437768240344},\n",
       "             (3, 17): {'hit': -0.3086175697237553,\n",
       "              'stick': -0.38216560509554154},\n",
       "             (3, 18): {'hit': -0.4522203855378693,\n",
       "              'stick': 0.026543566070398178},\n",
       "             (3, 19): {'hit': -0.5253623188405797,\n",
       "              'stick': 0.39693128752501644},\n",
       "             (3, 20): {'hit': -0.6691176470588233,\n",
       "              'stick': 0.6738296239447417},\n",
       "             (3, 21): {'hit': -0.7040000000000002,\n",
       "              'stick': 0.9136690647482023},\n",
       "             (4, 11): {'hit': -0.0763201069826701,\n",
       "              'stick': -0.40571428571428564},\n",
       "             (4, 12): {'hit': -0.10882852532900968,\n",
       "              'stick': -0.5316455696202531},\n",
       "             (4, 13): {'hit': -0.13750602376226626,\n",
       "              'stick': -0.4465408805031448},\n",
       "             (4, 14): {'hit': -0.1947047925959643,\n",
       "              'stick': -0.6142857142857141},\n",
       "             (4, 15): {'hit': -0.27032943599548226,\n",
       "              'stick': -0.5049504950495048},\n",
       "             (4, 16): {'hit': -0.28922047751658314,\n",
       "              'stick': -0.5541401273885345},\n",
       "             (4, 17): {'hit': -0.4824215416320879,\n",
       "              'stick': -0.3483835005574144},\n",
       "             (4, 18): {'hit': -0.46730769230769226,\n",
       "              'stick': -0.001182033096926725},\n",
       "             (4, 19): {'hit': -0.4411226028873088,\n",
       "              'stick': 0.3538011695906438},\n",
       "             (4, 20): {'hit': -0.5849572649572651,\n",
       "              'stick': 0.6523765144454801},\n",
       "             (4, 21): {'hit': -0.7822580645161291,\n",
       "              'stick': 0.9230769230769225},\n",
       "             (5, 11): {'hit': -0.05855623350011626,\n",
       "              'stick': -0.5471698113207543},\n",
       "             (5, 12): {'hit': -0.10335237815392483,\n",
       "              'stick': -0.615384615384615},\n",
       "             (5, 13): {'hit': -0.14027932187600722,\n",
       "              'stick': -0.47609942638623354},\n",
       "             (5, 14): {'hit': -0.22217000826472488,\n",
       "              'stick': -0.5362318840579711},\n",
       "             (5, 15): {'hit': -0.22497515483068034,\n",
       "              'stick': -0.5244755244755246},\n",
       "             (5, 16): {'hit': -0.2845781340581387,\n",
       "              'stick': -0.5072463768115939},\n",
       "             (5, 17): {'hit': -0.5151515151515148,\n",
       "              'stick': -0.3135788262370538},\n",
       "             (5, 18): {'hit': -0.6544117647058819,\n",
       "              'stick': 0.08744710860366726},\n",
       "             (5, 19): {'hit': -0.5462049643484125,\n",
       "              'stick': 0.3866552609067576},\n",
       "             (5, 20): {'hit': -0.6869565217391305,\n",
       "              'stick': 0.6610169491525416},\n",
       "             (5, 21): {'hit': -0.7213346680013345,\n",
       "              'stick': 0.8870967741935486},\n",
       "             (6, 11): {'hit': -0.06917039062183694,\n",
       "              'stick': -0.4857142857142857},\n",
       "             (6, 12): {'hit': -0.11832648792583238,\n",
       "              'stick': -0.5540540540540536},\n",
       "             (6, 13): {'hit': -0.1757036755398062,\n",
       "              'stick': -0.3932584269662922},\n",
       "             (6, 14): {'hit': -0.1997289343071703,\n",
       "              'stick': -0.445945945945946},\n",
       "             (6, 15): {'hit': -0.2802216334619495,\n",
       "              'stick': -0.36324786324786346},\n",
       "             (6, 16): {'hit': -0.4830288226673179,\n",
       "              'stick': -0.4804753820033963},\n",
       "             (6, 17): {'hit': -0.41496598639455784,\n",
       "              'stick': -0.27627438640654434},\n",
       "             (6, 18): {'hit': -0.5285714285714285,\n",
       "              'stick': 0.08541194255479968},\n",
       "             (6, 19): {'hit': -0.4409448818897637,\n",
       "              'stick': 0.33570792520035597},\n",
       "             (6, 20): {'hit': -0.5326255253262553,\n",
       "              'stick': 0.6581576026637065},\n",
       "             (6, 21): {'hit': -0.7622629379620702,\n",
       "              'stick': 0.8990384615384607},\n",
       "             (7, 11): {'hit': 0.004765601361700758,\n",
       "              'stick': -0.47560975609756095},\n",
       "             (7, 12): {'hit': -0.040849762699504535,\n",
       "              'stick': -0.42690058479532156},\n",
       "             (7, 13): {'hit': -0.13848194644318285,\n",
       "              'stick': -0.5838926174496643},\n",
       "             (7, 14): {'hit': -0.18567494497547202,\n",
       "              'stick': -0.43604651162790703},\n",
       "             (7, 15): {'hit': -0.19723124530339162,\n",
       "              'stick': -0.5185185185185182},\n",
       "             (7, 16): {'hit': -0.22059812186601602,\n",
       "              'stick': -0.4555555555555559},\n",
       "             (7, 17): {'hit': -0.4403147105278292,\n",
       "              'stick': -0.2186588921282798},\n",
       "             (7, 18): {'hit': -0.4594594594594593,\n",
       "              'stick': 0.16321070234113738},\n",
       "             (7, 19): {'hit': -0.5267175572519085,\n",
       "              'stick': 0.4336432797971257},\n",
       "             (7, 20): {'hit': -0.6892676767676764,\n",
       "              'stick': 0.6889295516925884},\n",
       "             (7, 21): {'hit': -0.6263736263736264,\n",
       "              'stick': 0.9094650205761319},\n",
       "             (8, 11): {'hit': -0.021823029285403497,\n",
       "              'stick': -0.5976331360946742},\n",
       "             (8, 12): {'hit': -0.04304854142037203,\n",
       "              'stick': -0.625806451612903},\n",
       "             (8, 13): {'hit': -0.11499781837310018,\n",
       "              'stick': -0.5190839694656486},\n",
       "             (8, 14): {'hit': -0.17085301963848248,\n",
       "              'stick': -0.5857988165680471},\n",
       "             (8, 15): {'hit': -0.23472530512057044,\n",
       "              'stick': -0.6463414634146345},\n",
       "             (8, 16): {'hit': -0.306889746142407,\n",
       "              'stick': -0.6623376623376624},\n",
       "             (8, 17): {'hit': -0.37086782529856704,\n",
       "              'stick': -0.30984274898078057},\n",
       "             (8, 18): {'hit': -0.5657696504328887,\n",
       "              'stick': 0.09287531806615769},\n",
       "             (8, 19): {'hit': -0.6622516556291388,\n",
       "              'stick': 0.46283524904214557},\n",
       "             (8, 20): {'hit': -0.5789473684210524,\n",
       "              'stick': 0.7006610009442871},\n",
       "             (8, 21): {'hit': -0.5709204325324547,\n",
       "              'stick': 0.9186785260482858},\n",
       "             (9, 11): {'hit': -0.04646949536751623,\n",
       "              'stick': -0.5317460317460321},\n",
       "             (9, 12): {'hit': -0.05336409217659102,\n",
       "              'stick': -0.5476190476190472},\n",
       "             (9, 13): {'hit': -0.13783556177758782,\n",
       "              'stick': -0.6510067114093956},\n",
       "             (9, 14): {'hit': -0.173800456313561,\n",
       "              'stick': -0.5052631578947371},\n",
       "             (9, 15): {'hit': -0.2712553118492204,\n",
       "              'stick': -0.6708860759493673},\n",
       "             (9, 16): {'hit': -0.26344572325719456,\n",
       "              'stick': -0.5047619047619049},\n",
       "             (9, 17): {'hit': -0.5223880597014926,\n",
       "              'stick': -0.3209382151029748},\n",
       "             (9, 18): {'hit': -0.4839390705354367,\n",
       "              'stick': 0.10707576706324366},\n",
       "             (9, 19): {'hit': -0.5318545344801568,\n",
       "              'stick': 0.42889390519187337},\n",
       "             (9, 20): {'hit': -0.6451612903225803,\n",
       "              'stick': 0.6776859504132221},\n",
       "             (9, 21): {'hit': -0.732142857142857, 'stick': 0.9197860962566842},\n",
       "             (10, 11): {'hit': -0.06906906814995908, 'stick': -0.6},\n",
       "             (10, 12): {'hit': -0.1201573496157018,\n",
       "              'stick': -0.5220125786163522},\n",
       "             (10, 13): {'hit': -0.17956613590701742,\n",
       "              'stick': -0.5393939393939392},\n",
       "             (10, 14): {'hit': -0.20931366652878577,\n",
       "              'stick': -0.6016597510373446},\n",
       "             (10, 15): {'hit': -0.30837410375271207,\n",
       "              'stick': -0.447513812154696},\n",
       "             (10, 16): {'hit': -0.33006153963100265,\n",
       "              'stick': -0.6255707762557079},\n",
       "             (10, 17): {'hit': -0.461580131391851,\n",
       "              'stick': -0.37171604248183326},\n",
       "             (10, 18): {'hit': -0.4448540706605219,\n",
       "              'stick': -0.040152963671128056},\n",
       "             (10, 19): {'hit': -0.5648854961832064,\n",
       "              'stick': 0.33997050147492647},\n",
       "             (10, 20): {'hit': -0.713263768115942,\n",
       "              'stick': 0.6542404473438953},\n",
       "             (10, 21): {'hit': -0.7041897233201577,\n",
       "              'stick': 0.9261992619926204}})"
      ]
     },
     "execution_count": 19,
     "metadata": {},
     "output_type": "execute_result"
    }
   ],
   "source": [
    "q_learner.Q_Table"
   ]
  }
 ],
 "metadata": {
  "kernelspec": {
   "display_name": "Python 3",
   "language": "python",
   "name": "python3"
  },
  "language_info": {
   "codemirror_mode": {
    "name": "ipython",
    "version": 3
   },
   "file_extension": ".py",
   "mimetype": "text/x-python",
   "name": "python",
   "nbconvert_exporter": "python",
   "pygments_lexer": "ipython3",
   "version": "3.5.2"
  }
 },
 "nbformat": 4,
 "nbformat_minor": 1
}
